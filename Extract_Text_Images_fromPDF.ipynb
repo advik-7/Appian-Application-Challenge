{
  "nbformat": 4,
  "nbformat_minor": 0,
  "metadata": {
    "colab": {
      "provenance": [],
      "authorship_tag": "ABX9TyMtnsnp85gfqbYGdespULNa",
      "include_colab_link": true
    },
    "kernelspec": {
      "name": "python3",
      "display_name": "Python 3"
    },
    "language_info": {
      "name": "python"
    }
  },
  "cells": [
    {
      "cell_type": "markdown",
      "metadata": {
        "id": "view-in-github",
        "colab_type": "text"
      },
      "source": [
        "<a href=\"https://colab.research.google.com/github/advik-7/Appian-Application-Challenge/blob/main/Extract_Text_Images_fromPDF.ipynb\" target=\"_parent\"><img src=\"https://colab.research.google.com/assets/colab-badge.svg\" alt=\"Open In Colab\"/></a>"
      ]
    },
    {
      "cell_type": "code",
      "execution_count": 1,
      "metadata": {
        "colab": {
          "base_uri": "https://localhost:8080/"
        },
        "id": "5jE8QkxMe1nA",
        "outputId": "fe1a2b66-55c4-4220-8fc9-2986f7eb618b"
      },
      "outputs": [
        {
          "output_type": "stream",
          "name": "stdout",
          "text": [
            "\u001b[2K   \u001b[90m━━━━━━━━━━━━━━━━━━━━━━━━━━━━━━━━━━━━━━━━\u001b[0m \u001b[32m20.0/20.0 MB\u001b[0m \u001b[31m22.6 MB/s\u001b[0m eta \u001b[36m0:00:00\u001b[0m\n",
            "\u001b[?25h"
          ]
        }
      ],
      "source": [
        "!pip install PyMuPDF -qq\n"
      ]
    },
    {
      "cell_type": "code",
      "source": [
        "import fitz\n",
        "def extract_text_and_images(pdf_path):\n",
        "    doc = fitz.open(pdf_path)\n",
        "    extracted_text = \"\"\n",
        "    extracted_images = []\n",
        "\n",
        "    for page_num in range(len(doc)):\n",
        "        page = doc.load_page(page_num)\n",
        "        text = page.get_text()\n",
        "        extracted_text += text\n",
        "        if not text.strip():\n",
        "            images = page.get_images(full=True)\n",
        "            for img_index, img in enumerate(images):\n",
        "                xref = img[0]\n",
        "                base_image = doc.extract_image(xref)\n",
        "                image_bytes = base_image[\"image\"]\n",
        "                extracted_images.append(image_bytes)\n",
        "\n",
        "    return extracted_text, extracted_images\n",
        "\n"
      ],
      "metadata": {
        "id": "jfCfPbnSe6y-"
      },
      "execution_count": 2,
      "outputs": []
    },
    {
      "cell_type": "code",
      "source": [
        "\n",
        "pdf_path = \"/content/image-based-pdf-sample.pdf\"\n",
        "text, images = extract_text_and_images(pdf_path)\n",
        "\n",
        "if text.strip():\n",
        "    print(\"Extracted Text:\")\n",
        "    print(text)\n",
        "else:\n",
        "    print(\"No text found in the document.\")\n"
      ],
      "metadata": {
        "colab": {
          "base_uri": "https://localhost:8080/"
        },
        "id": "X3cPxECOfGVL",
        "outputId": "1fc7a292-d737-4c8f-bcb6-50aea7b8b001"
      },
      "execution_count": 7,
      "outputs": [
        {
          "output_type": "stream",
          "name": "stdout",
          "text": [
            "No text found in the document.\n"
          ]
        }
      ]
    },
    {
      "cell_type": "code",
      "source": [
        "\n",
        "if images:\n",
        "    print(f\"Extracted {len(images)} image(s).\")\n",
        "    for i, img in enumerate(images):\n",
        "        with open(f\"image_{i}.png\", \"wb\") as img_file:\n",
        "            img_file.write(img)\n",
        "        print(f\"Saved image_{i}.png\")\n",
        "else:\n",
        "  print(\"No images in it\")"
      ],
      "metadata": {
        "colab": {
          "base_uri": "https://localhost:8080/"
        },
        "id": "nA3-_-mhfJgg",
        "outputId": "58a8e101-f2c9-4651-fe31-0f21ebca23c7"
      },
      "execution_count": 8,
      "outputs": [
        {
          "output_type": "stream",
          "name": "stdout",
          "text": [
            "Extracted 1 image(s).\n",
            "Saved image_0.png\n"
          ]
        }
      ]
    },
    {
      "cell_type": "code",
      "source": [],
      "metadata": {
        "id": "tnAincsVfQ7R"
      },
      "execution_count": null,
      "outputs": []
    }
  ]
}